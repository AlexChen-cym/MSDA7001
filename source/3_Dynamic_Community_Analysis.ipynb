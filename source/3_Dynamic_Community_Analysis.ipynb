{
 "cells": [
  {
   "cell_type": "markdown",
   "id": "bba967f5-b6f5-4bd2-86c3-32deb7291cfd",
   "metadata": {},
   "source": [
    "## 1.Dynamic Network"
   ]
  },
  {
   "cell_type": "code",
   "execution_count": 16,
   "id": "e26d4da6-328f-44be-be4a-144162b3d2cd",
   "metadata": {},
   "outputs": [],
   "source": [
    "import pandas as pd # type: ignore\n",
    "\n",
    "all_books = pd.read_csv(\"results/all_books.csv\")"
   ]
  },
  {
   "cell_type": "code",
   "execution_count": 17,
   "id": "31885eca-f499-4031-b0ab-4f6b786f2453",
   "metadata": {},
   "outputs": [
    {
     "name": "stdout",
     "output_type": "stream",
     "text": [
      "Book 1: Nodes=187, Edges=684\n",
      "Book 2: Nodes=259, Edges=775\n",
      "Book 3: Nodes=303, Edges=1008\n",
      "Book 4: Nodes=274, Edges=682\n",
      "Book 5: Nodes=317, Edges=760\n"
     ]
    }
   ],
   "source": [
    "import networkx as nx\n",
    "\n",
    "# 初始化存储所有图的字典\n",
    "book_graphs = {}\n",
    "\n",
    "# 为每本书单独创建一个图\n",
    "for book_id in all_books['book'].unique():\n",
    "    # 获取当前书的数据\n",
    "    book_data = all_books[all_books['book'] == book_id]\n",
    "    \n",
    "    # 创建图对象\n",
    "    G = nx.Graph()\n",
    "    for _, row in book_data.iterrows():\n",
    "        # 添加边并设置权重\n",
    "        G.add_edge(row['Source'], row['Target'], weight=row['weight'])\n",
    "    \n",
    "    # 存储图\n",
    "    book_graphs[book_id] = G\n",
    "\n",
    "# 检查结果\n",
    "for book_id, G in book_graphs.items():\n",
    "    print(f\"Book {book_id}: Nodes={G.number_of_nodes()}, Edges={G.number_of_edges()}\")\n"
   ]
  },
  {
   "cell_type": "markdown",
   "id": "54e42555",
   "metadata": {},
   "source": [
    "## 2. Community Transfer"
   ]
  },
  {
   "cell_type": "code",
   "execution_count": 18,
   "id": "26eb4277",
   "metadata": {},
   "outputs": [
    {
     "name": "stdout",
     "output_type": "stream",
     "text": [
      "Book 1, Community 7: Leader=Tyrion-Lannister\n",
      "Book 1, Community 1: Leader=Daenerys-Targaryen\n",
      "Book 1, Community 2: Leader=Eddard-Stark\n",
      "Book 1, Community 3: Leader=Jon-Snow\n",
      "Book 1, Community 5: Leader=Sansa-Stark\n",
      "Book 1, Community 6: Leader=Robb-Stark\n",
      "Book 2, Community 1: Leader=Arya-Stark\n",
      "Book 2, Community 0: Leader=Tyrion-Lannister\n",
      "Book 2, Community 3: Leader=Jon-Snow\n",
      "Book 2, Community 4: Leader=Theon-Greyjoy\n",
      "Book 2, Community 5: Leader=Stannis-Baratheon\n",
      "Book 2, Community 6: Leader=Daenerys-Targaryen\n",
      "Book 3, Community 5: Leader=Tyrion-Lannister\n",
      "Book 3, Community 8: Leader=Jaime-Lannister\n",
      "Book 3, Community 3: Leader=Robb-Stark\n",
      "Book 3, Community 4: Leader=Stannis-Baratheon\n",
      "Book 3, Community 0: Leader=Robert-Baratheon\n",
      "Book 3, Community 6: Leader=Jon-Snow\n",
      "Book 3, Community 1: Leader=Arya-Stark\n",
      "Book 3, Community 2: Leader=Bran-Stark\n",
      "Book 4, Community 9: Leader=Jaime-Lannister\n",
      "Book 4, Community 1: Leader=Cersei-Lannister\n",
      "Book 4, Community 2: Leader=Aerys-II-Targaryen\n",
      "Book 4, Community 10: Leader=Samwell-Tarly\n",
      "Book 4, Community 5: Leader=Victarion-Greyjoy\n",
      "Book 4, Community 8: Leader=Sansa-Stark\n",
      "Book 4, Community 0: Leader=Arianne-Martell\n",
      "Book 4, Community 3: Leader=Arya-Stark\n",
      "Book 4, Community 4: Leader=Brienne-of-Tarth\n",
      "Book 5, Community 0: Leader=Daenerys-Targaryen\n",
      "Book 5, Community 1: Leader=Tyrion-Lannister\n",
      "Book 5, Community 3: Leader=Jon-Snow\n",
      "Book 5, Community 6: Leader=Wyman-Manderly\n",
      "Book 5, Community 5: Leader=Theon-Greyjoy\n",
      "Book 5, Community 7: Leader=Victarion-Greyjoy\n",
      "Book 5, Community 8: Leader=Asha-Greyjoy\n",
      "Book 5, Community 9: Leader=Cersei-Lannister\n",
      "Book 5, Community 2: Leader=Bran-Stark\n"
     ]
    }
   ],
   "source": [
    "import pandas as pd\n",
    "import networkx as nx\n",
    "\n",
    "# 读取社区数据\n",
    "community_df = pd.read_csv(\"results/community_results.csv\")\n",
    "\n",
    "# 过滤掉节点数少于 min_members 的社区\n",
    "min_members = 5\n",
    "community_df = community_df.groupby(['Book', 'Community']).filter(lambda x: len(x) >= min_members)\n",
    "\n",
    "# 计算每个社区中最重要角色的名字和成员个数\n",
    "community_leaders = {}\n",
    "\n",
    "for book_id in community_df['Book'].unique():\n",
    "    # 获取当前书的社区数据\n",
    "    book_community_data = community_df[community_df['Book'] == book_id]\n",
    "    \n",
    "    # 获取当前书的图\n",
    "    G = book_graphs[book_id]\n",
    "    \n",
    "    # 计算每个社区中最重要角色的名字和成员个数\n",
    "    for community in book_community_data['Community'].unique():\n",
    "        # 获取当前社区的节点\n",
    "        community_nodes = book_community_data[book_community_data['Community'] == community]['Node']\n",
    "        \n",
    "        # 计算每个节点的度中心性\n",
    "        centrality = nx.degree_centrality(G)\n",
    "        \n",
    "        # 找到度中心性最高的节点\n",
    "        leader = max(community_nodes, key=lambda node: centrality.get(node, 0))\n",
    "        \n",
    "        # 存储结果\n",
    "        community_leaders[(book_id, community)] = leader\n",
    "        \n",
    "# 显示结果\n",
    "for (book_id, community), leader in community_leaders.items():\n",
    "    print(f\"Book {book_id}, Community {community}: Leader={leader}\")\n",
    "        "
   ]
  },
  {
   "cell_type": "code",
   "execution_count": 19,
   "id": "6f93e6d3",
   "metadata": {},
   "outputs": [
    {
     "data": {
      "application/vnd.plotly.v1+json": {
       "config": {
        "plotlyServerURL": "https://plot.ly"
       },
       "data": [
        {
         "link": {
          "color": [
           "rgba(120, 149, 193, 0.15)",
           "rgba(120, 149, 193, 0.9074074074074073)",
           "rgba(120, 149, 193, 0.3464052287581699)",
           "rgba(120, 149, 193, 0.15)",
           "rgba(120, 149, 193, 0.15)",
           "rgba(120, 149, 193, 0.21568627450980393)",
           "rgba(120, 149, 193, 0.15)",
           "rgba(120, 149, 193, 0.15)",
           "rgba(120, 149, 193, 0.15)",
           "rgba(120, 149, 193, 0.7435897435897436)",
           "rgba(120, 149, 193, 0.15)",
           "rgba(120, 149, 193, 0.5061728395061729)",
           "rgba(120, 149, 193, 0.19753086419753085)",
           "rgba(120, 149, 193, 0.15)",
           "rgba(120, 149, 193, 0.15)",
           "rgba(120, 149, 193, 0.48717948717948717)",
           "rgba(120, 149, 193, 0.23076923076923078)",
           "rgba(120, 149, 193, 0.477124183006536)",
           "rgba(120, 149, 193, 0.4117647058823529)",
           "rgba(120, 149, 193, 0.15)",
           "rgba(120, 149, 193, 0.8456790123456791)",
           "rgba(120, 149, 193, 0.15)",
           "rgba(120, 149, 193, 0.5061728395061729)",
           "rgba(120, 149, 193, 0.15)",
           "rgba(120, 149, 193, 0.15)",
           "rgba(120, 149, 193, 0.15)",
           "rgba(120, 149, 193, 0.19753086419753085)",
           "rgba(120, 149, 193, 0.15)",
           "rgba(120, 149, 193, 0.934640522875817)",
           "rgba(120, 149, 193, 0.5959595959595959)",
           "rgba(120, 149, 193, 0.19191919191919188)",
           "rgba(120, 149, 193, 0.15)",
           "rgba(120, 149, 193, 0.15)",
           "rgba(120, 149, 193, 0.3162393162393162)",
           "rgba(120, 149, 193, 0.23076923076923078)",
           "rgba(120, 149, 193, 0.15)",
           "rgba(120, 149, 193, 0.15)",
           "rgba(120, 149, 193, 1.0)",
           "rgba(120, 149, 193, 0.25925925925925924)",
           "rgba(120, 149, 193, 0.6296296296296297)",
           "rgba(120, 149, 193, 0.15)",
           "rgba(120, 149, 193, 0.19191919191919188)",
           "rgba(120, 149, 193, 0.5959595959595959)",
           "rgba(120, 149, 193, 0.33333333333333337)",
           "rgba(120, 149, 193, 0.15)",
           "rgba(120, 149, 193, 0.33333333333333337)",
           "rgba(120, 149, 193, 0.15)",
           "rgba(120, 149, 193, 0.15)",
           "rgba(120, 149, 193, 0.15)",
           "rgba(120, 149, 193, 0.5370370370370371)",
           "rgba(120, 149, 193, 0.15)",
           "rgba(120, 149, 193, 0.4444444444444445)",
           "rgba(120, 149, 193, 0.4444444444444445)",
           "rgba(120, 149, 193, 0.15)",
           "rgba(120, 149, 193, 0.4666666666666667)",
           "rgba(120, 149, 193, 0.15)",
           "rgba(120, 149, 193, 0.15)",
           "rgba(120, 149, 193, 0.15)",
           "rgba(120, 149, 193, 0.15)",
           "rgba(120, 149, 193, 0.15)",
           "rgba(120, 149, 193, 1.0)",
           "rgba(120, 149, 193, 0.15)",
           "rgba(120, 149, 193, 0.15)",
           "rgba(120, 149, 193, 0.33333333333333337)",
           "rgba(120, 149, 193, 0.2222222222222222)",
           "rgba(120, 149, 193, 0.15)",
           "rgba(120, 149, 193, 0.9145299145299146)",
           "rgba(120, 149, 193, 0.25925925925925924)",
           "rgba(120, 149, 193, 0.15)",
           "rgba(120, 149, 193, 0.15)",
           "rgba(120, 149, 193, 0.47089947089947093)",
           "rgba(120, 149, 193, 0.16666666666666666)",
           "rgba(120, 149, 193, 0.7222222222222222)",
           "rgba(120, 149, 193, 1.0)",
           "rgba(120, 149, 193, 0.25925925925925924)",
           "rgba(120, 149, 193, 0.6296296296296297)",
           "rgba(120, 149, 193, 0.15)",
           "rgba(120, 149, 193, 0.5833333333333334)",
           "rgba(120, 149, 193, 0.16666666666666666)",
           "rgba(120, 149, 193, 0.4444444444444445)",
           "rgba(120, 149, 193, 0.4444444444444445)",
           "rgba(120, 149, 193, 0.15)",
           "rgba(120, 149, 193, 0.15)",
           "rgba(120, 149, 193, 0.8412698412698412)",
           "rgba(120, 149, 193, 0.15)",
           "rgba(120, 149, 193, 0.7435897435897436)"
          ],
          "source": [
           27,
           27,
           24,
           24,
           24,
           24,
           24,
           29,
           29,
           29,
           29,
           7,
           7,
           7,
           6,
           6,
           6,
           32,
           32,
           13,
           13,
           13,
           4,
           4,
           4,
           4,
           4,
           37,
           37,
           18,
           18,
           18,
           3,
           3,
           3,
           3,
           3,
           10,
           26,
           26,
           23,
           23,
           23,
           20,
           20,
           20,
           5,
           5,
           5,
           5,
           5,
           34,
           34,
           21,
           21,
           21,
           21,
           21,
           21,
           21,
           9,
           11,
           11,
           11,
           11,
           15,
           15,
           22,
           22,
           22,
           22,
           1,
           1,
           16,
           8,
           8,
           14,
           14,
           14,
           31,
           31,
           17,
           17,
           17,
           35,
           35
          ],
          "target": [
           4,
           10,
           13,
           4,
           18,
           3,
           10,
           13,
           4,
           37,
           3,
           13,
           4,
           3,
           4,
           18,
           3,
           13,
           3,
           23,
           21,
           9,
           23,
           20,
           34,
           21,
           11,
           20,
           9,
           20,
           5,
           11,
           26,
           5,
           34,
           21,
           11,
           26,
           22,
           1,
           16,
           8,
           17,
           16,
           14,
           35,
           22,
           8,
           14,
           17,
           35,
           22,
           35,
           15,
           22,
           1,
           8,
           31,
           17,
           35,
           35,
           22,
           1,
           8,
           17,
           30,
           33,
           0,
           25,
           2,
           33,
           30,
           0,
           2,
           2,
           33,
           2,
           36,
           28,
           0,
           2,
           0,
           19,
           33,
           12,
           25
          ],
          "value": [
           1,
           11,
           7,
           1,
           2,
           5,
           2,
           1,
           1,
           10,
           1,
           10,
           5,
           3,
           2,
           7,
           4,
           9,
           8,
           3,
           31,
           2,
           10,
           1,
           1,
           1,
           5,
           1,
           16,
           7,
           3,
           1,
           1,
           15,
           12,
           7,
           4,
           12,
           1,
           2,
           1,
           3,
           7,
           2,
           1,
           2,
           1,
           1,
           1,
           7,
           2,
           1,
           1,
           4,
           26,
           1,
           2,
           10,
           6,
           1,
           12,
           2,
           1,
           4,
           3,
           1,
           12,
           7,
           1,
           2,
           11,
           1,
           3,
           5,
           1,
           2,
           1,
           5,
           2,
           1,
           1,
           1,
           1,
           12,
           3,
           10
          ]
         },
         "node": {
          "label": [
           "Tyrion-Lannister",
           "Aerys-II-Targaryen",
           "Theon-Greyjoy",
           "Stannis-Baratheon",
           "Arya-Stark",
           "Robb-Stark",
           "Robb-Stark",
           "Sansa-Stark",
           "Brienne-of-Tarth",
           "Jon-Snow",
           "Daenerys-Targaryen",
           "Jaime-Lannister",
           "Bran-Stark",
           "Tyrion-Lannister",
           "Victarion-Greyjoy",
           "Arianne-Martell",
           "Arya-Stark",
           "Jaime-Lannister",
           "Theon-Greyjoy",
           "Wyman-Manderly",
           "Bran-Stark",
           "Tyrion-Lannister",
           "Cersei-Lannister",
           "Arya-Stark",
           "Eddard-Stark",
           "Jon-Snow",
           "Robert-Baratheon",
           "Daenerys-Targaryen",
           "Asha-Greyjoy",
           "Jon-Snow",
           "Daenerys-Targaryen",
           "Sansa-Stark",
           "Tyrion-Lannister",
           "Cersei-Lannister",
           "Stannis-Baratheon",
           "Samwell-Tarly",
           "Victarion-Greyjoy",
           "Jon-Snow"
          ],
          "line": {
           "color": "black",
           "width": 0.5
          },
          "pad": 15,
          "thickness": 20
         },
         "type": "sankey"
        }
       ],
       "layout": {
        "annotations": [
         {
          "font": {
           "size": 12
          },
          "showarrow": false,
          "text": "Book 1",
          "x": 0,
          "xref": "paper",
          "y": -0.1,
          "yref": "paper"
         },
         {
          "font": {
           "size": 12
          },
          "showarrow": false,
          "text": "Book 2",
          "x": 0.25,
          "xref": "paper",
          "y": -0.1,
          "yref": "paper"
         },
         {
          "font": {
           "size": 12
          },
          "showarrow": false,
          "text": "Book 3",
          "x": 0.5,
          "xref": "paper",
          "y": -0.1,
          "yref": "paper"
         },
         {
          "font": {
           "size": 12
          },
          "showarrow": false,
          "text": "Book 4",
          "x": 0.75,
          "xref": "paper",
          "y": -0.1,
          "yref": "paper"
         },
         {
          "font": {
           "size": 12
          },
          "showarrow": false,
          "text": "Book 5",
          "x": 1,
          "xref": "paper",
          "y": -0.1,
          "yref": "paper"
         }
        ],
        "font": {
         "size": 10
        },
        "height": 400,
        "margin": {
         "b": 40,
         "l": 20,
         "r": 20,
         "t": 40
        },
        "template": {
         "data": {
          "bar": [
           {
            "error_x": {
             "color": "#2a3f5f"
            },
            "error_y": {
             "color": "#2a3f5f"
            },
            "marker": {
             "line": {
              "color": "#E5ECF6",
              "width": 0.5
             },
             "pattern": {
              "fillmode": "overlay",
              "size": 10,
              "solidity": 0.2
             }
            },
            "type": "bar"
           }
          ],
          "barpolar": [
           {
            "marker": {
             "line": {
              "color": "#E5ECF6",
              "width": 0.5
             },
             "pattern": {
              "fillmode": "overlay",
              "size": 10,
              "solidity": 0.2
             }
            },
            "type": "barpolar"
           }
          ],
          "carpet": [
           {
            "aaxis": {
             "endlinecolor": "#2a3f5f",
             "gridcolor": "white",
             "linecolor": "white",
             "minorgridcolor": "white",
             "startlinecolor": "#2a3f5f"
            },
            "baxis": {
             "endlinecolor": "#2a3f5f",
             "gridcolor": "white",
             "linecolor": "white",
             "minorgridcolor": "white",
             "startlinecolor": "#2a3f5f"
            },
            "type": "carpet"
           }
          ],
          "choropleth": [
           {
            "colorbar": {
             "outlinewidth": 0,
             "ticks": ""
            },
            "type": "choropleth"
           }
          ],
          "contour": [
           {
            "colorbar": {
             "outlinewidth": 0,
             "ticks": ""
            },
            "colorscale": [
             [
              0,
              "#0d0887"
             ],
             [
              0.1111111111111111,
              "#46039f"
             ],
             [
              0.2222222222222222,
              "#7201a8"
             ],
             [
              0.3333333333333333,
              "#9c179e"
             ],
             [
              0.4444444444444444,
              "#bd3786"
             ],
             [
              0.5555555555555556,
              "#d8576b"
             ],
             [
              0.6666666666666666,
              "#ed7953"
             ],
             [
              0.7777777777777778,
              "#fb9f3a"
             ],
             [
              0.8888888888888888,
              "#fdca26"
             ],
             [
              1,
              "#f0f921"
             ]
            ],
            "type": "contour"
           }
          ],
          "contourcarpet": [
           {
            "colorbar": {
             "outlinewidth": 0,
             "ticks": ""
            },
            "type": "contourcarpet"
           }
          ],
          "heatmap": [
           {
            "colorbar": {
             "outlinewidth": 0,
             "ticks": ""
            },
            "colorscale": [
             [
              0,
              "#0d0887"
             ],
             [
              0.1111111111111111,
              "#46039f"
             ],
             [
              0.2222222222222222,
              "#7201a8"
             ],
             [
              0.3333333333333333,
              "#9c179e"
             ],
             [
              0.4444444444444444,
              "#bd3786"
             ],
             [
              0.5555555555555556,
              "#d8576b"
             ],
             [
              0.6666666666666666,
              "#ed7953"
             ],
             [
              0.7777777777777778,
              "#fb9f3a"
             ],
             [
              0.8888888888888888,
              "#fdca26"
             ],
             [
              1,
              "#f0f921"
             ]
            ],
            "type": "heatmap"
           }
          ],
          "heatmapgl": [
           {
            "colorbar": {
             "outlinewidth": 0,
             "ticks": ""
            },
            "colorscale": [
             [
              0,
              "#0d0887"
             ],
             [
              0.1111111111111111,
              "#46039f"
             ],
             [
              0.2222222222222222,
              "#7201a8"
             ],
             [
              0.3333333333333333,
              "#9c179e"
             ],
             [
              0.4444444444444444,
              "#bd3786"
             ],
             [
              0.5555555555555556,
              "#d8576b"
             ],
             [
              0.6666666666666666,
              "#ed7953"
             ],
             [
              0.7777777777777778,
              "#fb9f3a"
             ],
             [
              0.8888888888888888,
              "#fdca26"
             ],
             [
              1,
              "#f0f921"
             ]
            ],
            "type": "heatmapgl"
           }
          ],
          "histogram": [
           {
            "marker": {
             "pattern": {
              "fillmode": "overlay",
              "size": 10,
              "solidity": 0.2
             }
            },
            "type": "histogram"
           }
          ],
          "histogram2d": [
           {
            "colorbar": {
             "outlinewidth": 0,
             "ticks": ""
            },
            "colorscale": [
             [
              0,
              "#0d0887"
             ],
             [
              0.1111111111111111,
              "#46039f"
             ],
             [
              0.2222222222222222,
              "#7201a8"
             ],
             [
              0.3333333333333333,
              "#9c179e"
             ],
             [
              0.4444444444444444,
              "#bd3786"
             ],
             [
              0.5555555555555556,
              "#d8576b"
             ],
             [
              0.6666666666666666,
              "#ed7953"
             ],
             [
              0.7777777777777778,
              "#fb9f3a"
             ],
             [
              0.8888888888888888,
              "#fdca26"
             ],
             [
              1,
              "#f0f921"
             ]
            ],
            "type": "histogram2d"
           }
          ],
          "histogram2dcontour": [
           {
            "colorbar": {
             "outlinewidth": 0,
             "ticks": ""
            },
            "colorscale": [
             [
              0,
              "#0d0887"
             ],
             [
              0.1111111111111111,
              "#46039f"
             ],
             [
              0.2222222222222222,
              "#7201a8"
             ],
             [
              0.3333333333333333,
              "#9c179e"
             ],
             [
              0.4444444444444444,
              "#bd3786"
             ],
             [
              0.5555555555555556,
              "#d8576b"
             ],
             [
              0.6666666666666666,
              "#ed7953"
             ],
             [
              0.7777777777777778,
              "#fb9f3a"
             ],
             [
              0.8888888888888888,
              "#fdca26"
             ],
             [
              1,
              "#f0f921"
             ]
            ],
            "type": "histogram2dcontour"
           }
          ],
          "mesh3d": [
           {
            "colorbar": {
             "outlinewidth": 0,
             "ticks": ""
            },
            "type": "mesh3d"
           }
          ],
          "parcoords": [
           {
            "line": {
             "colorbar": {
              "outlinewidth": 0,
              "ticks": ""
             }
            },
            "type": "parcoords"
           }
          ],
          "pie": [
           {
            "automargin": true,
            "type": "pie"
           }
          ],
          "scatter": [
           {
            "fillpattern": {
             "fillmode": "overlay",
             "size": 10,
             "solidity": 0.2
            },
            "type": "scatter"
           }
          ],
          "scatter3d": [
           {
            "line": {
             "colorbar": {
              "outlinewidth": 0,
              "ticks": ""
             }
            },
            "marker": {
             "colorbar": {
              "outlinewidth": 0,
              "ticks": ""
             }
            },
            "type": "scatter3d"
           }
          ],
          "scattercarpet": [
           {
            "marker": {
             "colorbar": {
              "outlinewidth": 0,
              "ticks": ""
             }
            },
            "type": "scattercarpet"
           }
          ],
          "scattergeo": [
           {
            "marker": {
             "colorbar": {
              "outlinewidth": 0,
              "ticks": ""
             }
            },
            "type": "scattergeo"
           }
          ],
          "scattergl": [
           {
            "marker": {
             "colorbar": {
              "outlinewidth": 0,
              "ticks": ""
             }
            },
            "type": "scattergl"
           }
          ],
          "scattermapbox": [
           {
            "marker": {
             "colorbar": {
              "outlinewidth": 0,
              "ticks": ""
             }
            },
            "type": "scattermapbox"
           }
          ],
          "scatterpolar": [
           {
            "marker": {
             "colorbar": {
              "outlinewidth": 0,
              "ticks": ""
             }
            },
            "type": "scatterpolar"
           }
          ],
          "scatterpolargl": [
           {
            "marker": {
             "colorbar": {
              "outlinewidth": 0,
              "ticks": ""
             }
            },
            "type": "scatterpolargl"
           }
          ],
          "scatterternary": [
           {
            "marker": {
             "colorbar": {
              "outlinewidth": 0,
              "ticks": ""
             }
            },
            "type": "scatterternary"
           }
          ],
          "surface": [
           {
            "colorbar": {
             "outlinewidth": 0,
             "ticks": ""
            },
            "colorscale": [
             [
              0,
              "#0d0887"
             ],
             [
              0.1111111111111111,
              "#46039f"
             ],
             [
              0.2222222222222222,
              "#7201a8"
             ],
             [
              0.3333333333333333,
              "#9c179e"
             ],
             [
              0.4444444444444444,
              "#bd3786"
             ],
             [
              0.5555555555555556,
              "#d8576b"
             ],
             [
              0.6666666666666666,
              "#ed7953"
             ],
             [
              0.7777777777777778,
              "#fb9f3a"
             ],
             [
              0.8888888888888888,
              "#fdca26"
             ],
             [
              1,
              "#f0f921"
             ]
            ],
            "type": "surface"
           }
          ],
          "table": [
           {
            "cells": {
             "fill": {
              "color": "#EBF0F8"
             },
             "line": {
              "color": "white"
             }
            },
            "header": {
             "fill": {
              "color": "#C8D4E3"
             },
             "line": {
              "color": "white"
             }
            },
            "type": "table"
           }
          ]
         },
         "layout": {
          "annotationdefaults": {
           "arrowcolor": "#2a3f5f",
           "arrowhead": 0,
           "arrowwidth": 1
          },
          "autotypenumbers": "strict",
          "coloraxis": {
           "colorbar": {
            "outlinewidth": 0,
            "ticks": ""
           }
          },
          "colorscale": {
           "diverging": [
            [
             0,
             "#8e0152"
            ],
            [
             0.1,
             "#c51b7d"
            ],
            [
             0.2,
             "#de77ae"
            ],
            [
             0.3,
             "#f1b6da"
            ],
            [
             0.4,
             "#fde0ef"
            ],
            [
             0.5,
             "#f7f7f7"
            ],
            [
             0.6,
             "#e6f5d0"
            ],
            [
             0.7,
             "#b8e186"
            ],
            [
             0.8,
             "#7fbc41"
            ],
            [
             0.9,
             "#4d9221"
            ],
            [
             1,
             "#276419"
            ]
           ],
           "sequential": [
            [
             0,
             "#0d0887"
            ],
            [
             0.1111111111111111,
             "#46039f"
            ],
            [
             0.2222222222222222,
             "#7201a8"
            ],
            [
             0.3333333333333333,
             "#9c179e"
            ],
            [
             0.4444444444444444,
             "#bd3786"
            ],
            [
             0.5555555555555556,
             "#d8576b"
            ],
            [
             0.6666666666666666,
             "#ed7953"
            ],
            [
             0.7777777777777778,
             "#fb9f3a"
            ],
            [
             0.8888888888888888,
             "#fdca26"
            ],
            [
             1,
             "#f0f921"
            ]
           ],
           "sequentialminus": [
            [
             0,
             "#0d0887"
            ],
            [
             0.1111111111111111,
             "#46039f"
            ],
            [
             0.2222222222222222,
             "#7201a8"
            ],
            [
             0.3333333333333333,
             "#9c179e"
            ],
            [
             0.4444444444444444,
             "#bd3786"
            ],
            [
             0.5555555555555556,
             "#d8576b"
            ],
            [
             0.6666666666666666,
             "#ed7953"
            ],
            [
             0.7777777777777778,
             "#fb9f3a"
            ],
            [
             0.8888888888888888,
             "#fdca26"
            ],
            [
             1,
             "#f0f921"
            ]
           ]
          },
          "colorway": [
           "#636efa",
           "#EF553B",
           "#00cc96",
           "#ab63fa",
           "#FFA15A",
           "#19d3f3",
           "#FF6692",
           "#B6E880",
           "#FF97FF",
           "#FECB52"
          ],
          "font": {
           "color": "#2a3f5f"
          },
          "geo": {
           "bgcolor": "white",
           "lakecolor": "white",
           "landcolor": "#E5ECF6",
           "showlakes": true,
           "showland": true,
           "subunitcolor": "white"
          },
          "hoverlabel": {
           "align": "left"
          },
          "hovermode": "closest",
          "mapbox": {
           "style": "light"
          },
          "paper_bgcolor": "white",
          "plot_bgcolor": "#E5ECF6",
          "polar": {
           "angularaxis": {
            "gridcolor": "white",
            "linecolor": "white",
            "ticks": ""
           },
           "bgcolor": "#E5ECF6",
           "radialaxis": {
            "gridcolor": "white",
            "linecolor": "white",
            "ticks": ""
           }
          },
          "scene": {
           "xaxis": {
            "backgroundcolor": "#E5ECF6",
            "gridcolor": "white",
            "gridwidth": 2,
            "linecolor": "white",
            "showbackground": true,
            "ticks": "",
            "zerolinecolor": "white"
           },
           "yaxis": {
            "backgroundcolor": "#E5ECF6",
            "gridcolor": "white",
            "gridwidth": 2,
            "linecolor": "white",
            "showbackground": true,
            "ticks": "",
            "zerolinecolor": "white"
           },
           "zaxis": {
            "backgroundcolor": "#E5ECF6",
            "gridcolor": "white",
            "gridwidth": 2,
            "linecolor": "white",
            "showbackground": true,
            "ticks": "",
            "zerolinecolor": "white"
           }
          },
          "shapedefaults": {
           "line": {
            "color": "#2a3f5f"
           }
          },
          "ternary": {
           "aaxis": {
            "gridcolor": "white",
            "linecolor": "white",
            "ticks": ""
           },
           "baxis": {
            "gridcolor": "white",
            "linecolor": "white",
            "ticks": ""
           },
           "bgcolor": "#E5ECF6",
           "caxis": {
            "gridcolor": "white",
            "linecolor": "white",
            "ticks": ""
           }
          },
          "title": {
           "x": 0.05
          },
          "xaxis": {
           "automargin": true,
           "gridcolor": "white",
           "linecolor": "white",
           "ticks": "",
           "title": {
            "standoff": 15
           },
           "zerolinecolor": "white",
           "zerolinewidth": 2
          },
          "yaxis": {
           "automargin": true,
           "gridcolor": "white",
           "linecolor": "white",
           "ticks": "",
           "title": {
            "standoff": 15
           },
           "zerolinecolor": "white",
           "zerolinewidth": 2
          }
         }
        },
        "title": {
         "text": "Sankey Diagram with Community Transfer Rate"
        },
        "width": 1200
       }
      }
     },
     "metadata": {},
     "output_type": "display_data"
    }
   ],
   "source": [
    "# 创建 Source 和 Target 列，用于展示社区之间的流动\n",
    "links_with_colors = []  # 初始化 links_with_colors 列表\n",
    "books = sorted(community_df[\"Book\"].unique())\n",
    "\n",
    "# 计算社区转移率并映射颜色\n",
    "min_transfer_rate = 0.1  # 最小转移率\n",
    "max_transfer_rate = 1.0  # 最大转移率\n",
    "\n",
    "for i in range(len(books) - 1):\n",
    "    # 当前时间片和下一时间片的数据\n",
    "    current = community_df[community_df[\"Book\"] == books[i]]\n",
    "    next_ = community_df[community_df[\"Book\"] == books[i + 1]]\n",
    "\n",
    "    # 合并数据，按照节点匹配\n",
    "    merged = pd.merge(current, next_, on=\"Node\", suffixes=(\"_current\", \"_next\"))\n",
    "\n",
    "    # 统计社区的流动\n",
    "    flows = merged.groupby([\"Community_current\", \"Community_next\"]).size().reset_index(name=\"count\")\n",
    "\n",
    "    # 构造链接数据\n",
    "    for _, row in flows.iterrows():\n",
    "        community_current = row[\"Community_current\"]\n",
    "        total_transfers = flows[flows[\"Community_current\"] == community_current][\"count\"].sum()\n",
    "        transfer_rate = row[\"count\"] / total_transfers  # 计算转移率\n",
    "\n",
    "        # 调整透明度范围\n",
    "        normalized_transfer = (transfer_rate - min_transfer_rate) / (max_transfer_rate - min_transfer_rate)\n",
    "        normalized_transfer = max(0.15, min(normalized_transfer, 1))  # 设置下限为 0.3\n",
    "\n",
    "        # 使用透明度（RGBA）映射转移率\n",
    "        base_color = (120, 149, 193)   # 蓝色基础颜色\n",
    "        rgba_color = f\"rgba({base_color[0]}, {base_color[1]}, {base_color[2]}, {normalized_transfer})\"\n",
    "\n",
    "        # 添加到链接数据\n",
    "        links_with_colors.append({\n",
    "            \"source\": f\"Book {books[i]} - Community {int(row['Community_current'])}\",\n",
    "            \"target\": f\"Book {books[i + 1]} - Community {int(row['Community_next'])}\",\n",
    "            \"value\": row[\"count\"],\n",
    "            \"color\": rgba_color\n",
    "        })\n",
    "\n",
    "# 准备 Sankey 图的节点和链接\n",
    "nodes = list(set([link[\"source\"] for link in links_with_colors] + [link[\"target\"] for link in links_with_colors]))\n",
    "node_indices = {node: idx for idx, node in enumerate(nodes)}\n",
    "\n",
    "# 转换链接的 Source 和 Target 为索引\n",
    "sankey_links = {\n",
    "    \"source\": [node_indices[link[\"source\"]] for link in links_with_colors],\n",
    "    \"target\": [node_indices[link[\"target\"]] for link in links_with_colors],\n",
    "    \"value\": [link[\"value\"] for link in links_with_colors],\n",
    "    \"color\": [link[\"color\"] for link in links_with_colors]  # 透明度颜色\n",
    "}\n",
    "\n",
    "# 创建简化的书名标签\n",
    "labels = [community_leaders[(int(node.split(' - ')[0].split(' ')[1]), int(node.split(' - ')[1].split(' ')[1]))] for node in nodes]\n",
    "\n",
    "# 创建 Sankey 图\n",
    "import plotly.graph_objects as go\n",
    "\n",
    "fig = go.Figure(go.Sankey(\n",
    "    node=dict(\n",
    "        pad=15,\n",
    "        thickness=20,\n",
    "        line=dict(color=\"black\", width=0.5),\n",
    "        label=labels  # 节点显示为社区中中心性最高的成员名\n",
    "    ),\n",
    "    link=dict(\n",
    "        source=sankey_links[\"source\"],\n",
    "        target=sankey_links[\"target\"],\n",
    "        value=sankey_links[\"value\"],\n",
    "        color=sankey_links[\"color\"]  # 应用透明度颜色\n",
    "    )\n",
    "))\n",
    "\n",
    "# 添加书的编号注释\n",
    "annotations = []\n",
    "for i, book in enumerate(books):\n",
    "    annotations.append(dict(\n",
    "        x=i / (len(books) - 1),\n",
    "        y=-0.1,\n",
    "        text=f\"Book {book}\",\n",
    "        showarrow=False,\n",
    "        xref=\"paper\",\n",
    "        yref=\"paper\",\n",
    "        font=dict(size=12)\n",
    "    ))\n",
    "\n",
    "fig.update_layout(\n",
    "    title_text=\"Sankey Diagram with Community Transfer Rate\",\n",
    "    font_size=10,\n",
    "    annotations=annotations,\n",
    "    width=1200,\n",
    "    height=400,\n",
    "    margin=dict(l=20, r=20, t=40, b=40)\n",
    ")\n",
    "\n",
    "# 显示\n",
    "fig.show()\n",
    "fig.write_html(\"results/sankey_diagram.html\")"
   ]
  },
  {
   "cell_type": "markdown",
   "id": "7a7625fa-c822-4ea8-a8a3-e11316e32620",
   "metadata": {},
   "source": [
    "## 3. Community Importance"
   ]
  },
  {
   "cell_type": "code",
   "execution_count": 20,
   "id": "c75472eb",
   "metadata": {},
   "outputs": [
    {
     "name": "stdout",
     "output_type": "stream",
     "text": [
      "    Book  Community              Leader  Members  Degree Centrality  \\\n",
      "0      1          7    Tyrion-Lannister       10           1.494624   \n",
      "1      1          1  Daenerys-Targaryen       42           0.758065   \n",
      "2      1          2        Eddard-Stark       11           1.994624   \n",
      "3      1          3            Jon-Snow       78           0.844086   \n",
      "4      1          5         Sansa-Stark       32           1.177419   \n",
      "5      1          6          Robb-Stark       17           1.005376   \n",
      "6      2          1          Arya-Stark       42           0.992248   \n",
      "7      2          0    Tyrion-Lannister       61           1.639535   \n",
      "8      2          3            Jon-Snow       78           0.484496   \n",
      "9      2          4       Theon-Greyjoy        0           0.992248   \n",
      "10     2          5   Stannis-Baratheon       32           1.577519   \n",
      "11     2          6  Daenerys-Targaryen       17           0.298450   \n",
      "12     3          5    Tyrion-Lannister       32           1.834437   \n",
      "13     3          8     Jaime-Lannister       15           0.460265   \n",
      "14     3          3          Robb-Stark       78           0.887417   \n",
      "15     3          4   Stannis-Baratheon        0           0.423841   \n",
      "16     3          0    Robert-Baratheon       61           0.529801   \n",
      "17     3          6            Jon-Snow       17           1.523179   \n",
      "18     3          1          Arya-Stark       42           0.814570   \n",
      "19     3          2          Bran-Stark       11           0.172185   \n",
      "20     4          9     Jaime-Lannister       44           0.853480   \n",
      "21     4          1    Cersei-Lannister       42           1.523810   \n",
      "22     4          2  Aerys-II-Targaryen       11           0.069597   \n",
      "23     4         10       Samwell-Tarly        0           0.498168   \n",
      "24     4          5   Victarion-Greyjoy       32           0.406593   \n",
      "25     4          8         Sansa-Stark       15           0.582418   \n",
      "26     4          0     Arianne-Martell       61           0.454212   \n",
      "27     4          3          Arya-Stark       78           0.142857   \n",
      "28     4          4    Brienne-of-Tarth        0           0.443223   \n",
      "29     5          0  Daenerys-Targaryen       61           1.091772   \n",
      "30     5          1    Tyrion-Lannister       42           0.686709   \n",
      "31     5          3            Jon-Snow       78           1.262658   \n",
      "32     5          6      Wyman-Manderly       17           0.180380   \n",
      "33     5          5       Theon-Greyjoy       32           0.512658   \n",
      "34     5          7   Victarion-Greyjoy       10           0.088608   \n",
      "35     5          8        Asha-Greyjoy       15           0.177215   \n",
      "36     5          9    Cersei-Lannister       44           0.613924   \n",
      "37     5          2          Bran-Stark       11           0.151899   \n",
      "\n",
      "    Betweenness Centrality  Eigenvector Centrality  Closeness Centrality  \n",
      "0                 0.533767                1.604164             16.340584  \n",
      "1                 0.179022                0.219669              6.830855  \n",
      "2                 0.601700                2.722910             16.127685  \n",
      "3                 0.274710                0.628057              8.852606  \n",
      "4                 0.135744                1.719255              8.940959  \n",
      "5                 0.175732                1.212680              7.615288  \n",
      "6                 0.306240                1.430948             12.114120  \n",
      "7                 0.455649                3.481497             16.847463  \n",
      "8                 0.237947                0.182568              7.498145  \n",
      "9                 0.418241                0.713320             14.946090  \n",
      "10                0.877533                2.703866             20.442002  \n",
      "11                0.124533                0.127388              5.025092  \n",
      "12                0.566301                4.046307             23.017494  \n",
      "13                0.237442                0.748938              7.245589  \n",
      "14                0.300595                1.406485             14.044827  \n",
      "15                0.185853                0.402551              6.961327  \n",
      "16                0.386861                0.282068              7.773611  \n",
      "17                0.466115                0.816446             20.244161  \n",
      "18                0.180313                1.531975              8.704094  \n",
      "19                0.049999                0.229636              3.170277  \n",
      "20                0.296129                2.193765             13.046519  \n",
      "21                0.978703                4.378549             17.247016  \n",
      "22                0.036585                0.175533              1.875328  \n",
      "23                0.375893                0.230367              8.518297  \n",
      "24                0.390864                0.021850              5.831430  \n",
      "25                0.312938                0.634004              7.497141  \n",
      "26                0.259818                0.205427              5.980953  \n",
      "27                0.115458                0.037381              3.465696  \n",
      "28                0.223782                0.704587              7.212373  \n",
      "29                0.449313                4.084020             15.783527  \n",
      "30                0.528201                1.927006             11.947127  \n",
      "31                0.894413                2.470588             21.798066  \n",
      "32                0.071404                0.285645              4.458892  \n",
      "33                0.259031                0.774065              8.589703  \n",
      "34                0.057188                0.148090              2.514384  \n",
      "35                0.114788                0.190516              3.988928  \n",
      "36                0.336917                0.963027             12.033995  \n",
      "37                0.060615                0.181566              2.850267  \n"
     ]
    }
   ],
   "source": [
    "# 计算每个社区的重要性\n",
    "community_importance = {}\n",
    "\n",
    "# 计算每个社区的成员数量\n",
    "community_member_counts = {}\n",
    "\n",
    "for book_id in books:\n",
    "    # 获取当前书的图\n",
    "    G = book_graphs[book_id]\n",
    "    \n",
    "    # 获取当前书的社区数据\n",
    "    book_community_data = community_df[community_df['Book'] == book_id]\n",
    "    \n",
    "    # 计算每个社区的成员数量\n",
    "    community_member_counts = book_community_data['Community'].value_counts().to_dict()\n",
    "    \n",
    "    # 计算度中心性\n",
    "    degree_centrality = nx.degree_centrality(G)\n",
    "    # 计算介数中心性\n",
    "    betweenness_centrality = nx.betweenness_centrality(G)\n",
    "    # 计算特征向量中心性\n",
    "    eigenvector_centrality = nx.eigenvector_centrality(G, max_iter=1000)\n",
    "    # 计算接近中心性\n",
    "    closeness_centrality = nx.closeness_centrality(G)\n",
    "    \n",
    "    # 计算每个社区的重要性（结合多个中心性指标）\n",
    "    for community in book_community_data['Community'].unique():\n",
    "        community_nodes = book_community_data[book_community_data['Community'] == community]['Node']\n",
    "        community_degree_centrality = [degree_centrality[node] for node in community_nodes if node in degree_centrality]\n",
    "        community_betweenness_centrality = [betweenness_centrality[node] for node in community_nodes if node in betweenness_centrality]\n",
    "        community_eigenvector_centrality = [eigenvector_centrality[node] for node in community_nodes if node in eigenvector_centrality]\n",
    "        community_closeness_centrality = [closeness_centrality[node] for node in community_nodes if node in closeness_centrality]\n",
    "        \n",
    "        # 综合多个指标，计算社区重要性\n",
    "        community_importance[(book_id, community)] = {\n",
    "            'degree_centrality': sum(community_degree_centrality),\n",
    "            'betweenness_centrality': sum(community_betweenness_centrality),\n",
    "            'eigenvector_centrality': sum(community_eigenvector_centrality),\n",
    "            'closeness_centrality': sum(community_closeness_centrality),\n",
    "        }\n",
    "\n",
    "# 转换为 DataFrame 以便于可视化\n",
    "importance_df = pd.DataFrame([\n",
    "    {\n",
    "        'Book': book_id, \n",
    "        'Community': community, \n",
    "        'Leader': community_leaders.get((book_id, community), 'Unknown'),\n",
    "        'Members': community_member_counts.get(community, 0),\n",
    "        'Degree Centrality': importance['degree_centrality'], \n",
    "        'Betweenness Centrality': importance['betweenness_centrality'], \n",
    "        'Eigenvector Centrality': importance['eigenvector_centrality'], \n",
    "        'Closeness Centrality': importance['closeness_centrality'],\n",
    "    }\n",
    "    for (book_id, community), importance in community_importance.items()\n",
    "])\n",
    "\n",
    "print(importance_df)\n"
   ]
  },
  {
   "cell_type": "code",
   "execution_count": 21,
   "id": "607cd56b",
   "metadata": {},
   "outputs": [
    {
     "name": "stderr",
     "output_type": "stream",
     "text": [
      "C:\\Users\\Alex\\AppData\\Local\\Temp\\ipykernel_18656\\814867569.py:25: SettingWithCopyWarning:\n",
      "\n",
      "\n",
      "A value is trying to be set on a copy of a slice from a DataFrame.\n",
      "Try using .loc[row_indexer,col_indexer] = value instead\n",
      "\n",
      "See the caveats in the documentation: https://pandas.pydata.org/pandas-docs/stable/user_guide/indexing.html#returning-a-view-versus-a-copy\n",
      "\n",
      "C:\\Users\\Alex\\AppData\\Local\\Temp\\ipykernel_18656\\814867569.py:29: SettingWithCopyWarning:\n",
      "\n",
      "\n",
      "A value is trying to be set on a copy of a slice from a DataFrame.\n",
      "Try using .loc[row_indexer,col_indexer] = value instead\n",
      "\n",
      "See the caveats in the documentation: https://pandas.pydata.org/pandas-docs/stable/user_guide/indexing.html#returning-a-view-versus-a-copy\n",
      "\n",
      "C:\\Users\\Alex\\AppData\\Local\\Temp\\ipykernel_18656\\814867569.py:25: SettingWithCopyWarning:\n",
      "\n",
      "\n",
      "A value is trying to be set on a copy of a slice from a DataFrame.\n",
      "Try using .loc[row_indexer,col_indexer] = value instead\n",
      "\n",
      "See the caveats in the documentation: https://pandas.pydata.org/pandas-docs/stable/user_guide/indexing.html#returning-a-view-versus-a-copy\n",
      "\n",
      "C:\\Users\\Alex\\AppData\\Local\\Temp\\ipykernel_18656\\814867569.py:29: SettingWithCopyWarning:\n",
      "\n",
      "\n",
      "A value is trying to be set on a copy of a slice from a DataFrame.\n",
      "Try using .loc[row_indexer,col_indexer] = value instead\n",
      "\n",
      "See the caveats in the documentation: https://pandas.pydata.org/pandas-docs/stable/user_guide/indexing.html#returning-a-view-versus-a-copy\n",
      "\n",
      "C:\\Users\\Alex\\AppData\\Local\\Temp\\ipykernel_18656\\814867569.py:25: SettingWithCopyWarning:\n",
      "\n",
      "\n",
      "A value is trying to be set on a copy of a slice from a DataFrame.\n",
      "Try using .loc[row_indexer,col_indexer] = value instead\n",
      "\n",
      "See the caveats in the documentation: https://pandas.pydata.org/pandas-docs/stable/user_guide/indexing.html#returning-a-view-versus-a-copy\n",
      "\n",
      "C:\\Users\\Alex\\AppData\\Local\\Temp\\ipykernel_18656\\814867569.py:29: SettingWithCopyWarning:\n",
      "\n",
      "\n",
      "A value is trying to be set on a copy of a slice from a DataFrame.\n",
      "Try using .loc[row_indexer,col_indexer] = value instead\n",
      "\n",
      "See the caveats in the documentation: https://pandas.pydata.org/pandas-docs/stable/user_guide/indexing.html#returning-a-view-versus-a-copy\n",
      "\n",
      "C:\\Users\\Alex\\AppData\\Local\\Temp\\ipykernel_18656\\814867569.py:25: SettingWithCopyWarning:\n",
      "\n",
      "\n",
      "A value is trying to be set on a copy of a slice from a DataFrame.\n",
      "Try using .loc[row_indexer,col_indexer] = value instead\n",
      "\n",
      "See the caveats in the documentation: https://pandas.pydata.org/pandas-docs/stable/user_guide/indexing.html#returning-a-view-versus-a-copy\n",
      "\n",
      "C:\\Users\\Alex\\AppData\\Local\\Temp\\ipykernel_18656\\814867569.py:29: SettingWithCopyWarning:\n",
      "\n",
      "\n",
      "A value is trying to be set on a copy of a slice from a DataFrame.\n",
      "Try using .loc[row_indexer,col_indexer] = value instead\n",
      "\n",
      "See the caveats in the documentation: https://pandas.pydata.org/pandas-docs/stable/user_guide/indexing.html#returning-a-view-versus-a-copy\n",
      "\n",
      "C:\\Users\\Alex\\AppData\\Local\\Temp\\ipykernel_18656\\814867569.py:25: SettingWithCopyWarning:\n",
      "\n",
      "\n",
      "A value is trying to be set on a copy of a slice from a DataFrame.\n",
      "Try using .loc[row_indexer,col_indexer] = value instead\n",
      "\n",
      "See the caveats in the documentation: https://pandas.pydata.org/pandas-docs/stable/user_guide/indexing.html#returning-a-view-versus-a-copy\n",
      "\n",
      "C:\\Users\\Alex\\AppData\\Local\\Temp\\ipykernel_18656\\814867569.py:29: SettingWithCopyWarning:\n",
      "\n",
      "\n",
      "A value is trying to be set on a copy of a slice from a DataFrame.\n",
      "Try using .loc[row_indexer,col_indexer] = value instead\n",
      "\n",
      "See the caveats in the documentation: https://pandas.pydata.org/pandas-docs/stable/user_guide/indexing.html#returning-a-view-versus-a-copy\n",
      "\n"
     ]
    },
    {
     "data": {
      "image/png": "[encoded data removed]",
      "text/plain": [
       "<Figure size 2000x1200 with 6 Axes>"
      ]
     },
     "metadata": {},
     "output_type": "display_data"
    }
   ],
   "source": [
    "import seaborn as sns\n",
    "import matplotlib.pyplot as plt\n",
    "from sklearn.preprocessing import MinMaxScaler\n",
    "import matplotlib.lines as mlines\n",
    "\n",
    "# 设置Seaborn的主题\n",
    "sns.set_theme(style=\"whitegrid\")\n",
    "\n",
    "# 设置图形大小和布局\n",
    "fig, axes = plt.subplots(2, 3, figsize=(20, 12), sharey=True)\n",
    "axes = axes.flatten()\n",
    "\n",
    "# 中心性指标\n",
    "metrics = ['Degree Centrality', 'Betweenness Centrality', 'Eigenvector Centrality', 'Closeness Centrality']\n",
    "\n",
    "# 初始化标准化器\n",
    "scaler = MinMaxScaler()\n",
    "\n",
    "# 绘制每本书的社区重要性图\n",
    "for i, book_id in enumerate(books):\n",
    "    # 获取当前书的数据\n",
    "    book_data = importance_df[importance_df['Book'] == book_id]\n",
    "    \n",
    "    # 对每个指标进行标准化\n",
    "    book_data[metrics] = scaler.fit_transform(book_data[metrics])\n",
    "    leader_importance = scaler.fit_transform(book_data[['Degree Centrality']])\n",
    "    \n",
    "    # 平移数据，避免出现0值\n",
    "    book_data[metrics] += 0.1\n",
    "    leader_importance += 0.1\n",
    "    \n",
    "    # 将数据转换为长格式\n",
    "    book_data_long = book_data.melt(id_vars=['Community', 'Leader'], value_vars=metrics, var_name='Metric', value_name='Value')\n",
    "    \n",
    "    # 绘制条形图\n",
    "    sns.barplot(\n",
    "        x='Leader', \n",
    "        y='Value', \n",
    "        hue='Metric', \n",
    "        data=book_data_long, \n",
    "        ax=axes[i],\n",
    "        palette=\"Blues_d\"  # 设置颜色主题\n",
    "    )\n",
    "    \n",
    "    # 添加社区leader的重要性（度中心性）红色实线\n",
    "    for j, leader in enumerate(book_data['Leader']):\n",
    "        leader_value = leader_importance[j][0]\n",
    "        axes[i].plot([j - 0.4, j + 0.4], [leader_value, leader_value], color='red', linewidth=2)\n",
    "    \n",
    "    # 设置标题和标签\n",
    "    axes[i].set_title(f'Community Importance for Book {book_id}', fontsize=14)\n",
    "    axes[i].set_xlabel('')  # 仅在最后一行显示X轴标签\n",
    "    axes[i].set_ylabel('Normalized Value', fontsize=12)\n",
    "    \n",
    "    # 旋转横坐标标签\n",
    "    axes[i].tick_params(axis='x', rotation=45)\n",
    "    \n",
    "    # 移除子图中的图例\n",
    "    axes[i].get_legend().remove()\n",
    "\n",
    "# 添加统一的图例\n",
    "handles, labels = axes[0].get_legend_handles_labels()\n",
    "# 添加红色实线的图例项\n",
    "red_line = mlines.Line2D([], [], color='red', linewidth=2, label='Leader Importance')\n",
    "handles.append(red_line)\n",
    "labels.append('Main Characters Importance')\n",
    "\n",
    "# 将图例放置在第六个子图位置\n",
    "axes[-1].legend(handles, labels, title='Metric', loc='center', fontsize=14)\n",
    "axes[-1].axis('off')  # 隐藏第六个子图的坐标轴\n",
    "\n",
    "# 移除多余的子图\n",
    "for j in range(len(books), len(axes) - 1):\n",
    "    fig.delaxes(axes[j])\n",
    "\n",
    "# 调整布局\n",
    "plt.tight_layout()\n",
    "plt.show()\n"
   ]
  }
 ],
 "metadata": {
  "kernelspec": {
   "display_name": "base",
   "language": "python",
   "name": "python3"
  },
  "language_info": {
   "codemirror_mode": {
    "name": "ipython",
    "version": 3
   },
   "file_extension": ".py",
   "mimetype": "text/x-python",
   "name": "python",
   "nbconvert_exporter": "python",
   "pygments_lexer": "ipython3",
   "version": "3.12.4"
  }
 },
 "nbformat": 4,
 "nbformat_minor": 5
}
