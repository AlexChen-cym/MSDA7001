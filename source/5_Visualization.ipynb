{
 "cells": [
  {
   "cell_type": "code",
   "execution_count": 19,
   "metadata": {},
   "outputs": [],
   "source": [
    "from PIL import Image, ImageOps, ImageDraw, ImageFont\n",
    "import os\n",
    "\n",
    "def process_image(n):\n",
    "    # Define file path\n",
    "    file_path = f'book{n}_network.png'\n",
    "    \n",
    "    # Open the image file\n",
    "    with Image.open(file_path) as img:\n",
    "        # Remove white borders\n",
    "        img = ImageOps.crop(img, border=300)\n",
    "        \n",
    "        # Create a new image with extra space at the bottom for the label\n",
    "        new_img = Image.new('RGB', (img.width, img.height), (255, 255, 255))\n",
    "        new_img.paste(img, (0, 0))\n",
    "        \n",
    "        # Add label at the bottom right corner\n",
    "        draw = ImageDraw.Draw(new_img)\n",
    "        font_size = 160  # Adjust the font size here\n",
    "        font = ImageFont.load_default(font_size)\n",
    "        text = f'Book{n}'\n",
    "        text_bbox = draw.textbbox((0, 0), text, font=font)\n",
    "        text_width = text_bbox[2] - text_bbox[0]\n",
    "        text_height = text_bbox[3] - text_bbox[1]\n",
    "        text_x = new_img.width - text_width - 100  # 10 pixels padding from the right\n",
    "        text_y = new_img.height - text_height - 200  # 10 pixels padding from the bottom\n",
    "        draw.text((text_x, text_y), text, fill='black', font=font)\n",
    "        \n",
    "        # Save the new image\n",
    "        new_img.save(f'processed_book{n}_network.png')\n",
    "\n",
    "# Process images book1_network.png to book5_network.png\n",
    "for i in range(1, 6):\n",
    "    process_image(i)"
   ]
  }
 ],
 "metadata": {
  "kernelspec": {
   "display_name": "base",
   "language": "python",
   "name": "python3"
  },
  "language_info": {
   "codemirror_mode": {
    "name": "ipython",
    "version": 3
   },
   "file_extension": ".py",
   "mimetype": "text/x-python",
   "name": "python",
   "nbconvert_exporter": "python",
   "pygments_lexer": "ipython3",
   "version": "3.12.4"
  }
 },
 "nbformat": 4,
 "nbformat_minor": 2
}
